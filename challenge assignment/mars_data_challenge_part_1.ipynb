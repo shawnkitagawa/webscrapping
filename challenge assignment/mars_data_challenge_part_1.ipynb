{
 "cells": [
  {
   "cell_type": "code",
   "execution_count": 1,
   "id": "46e422fd",
   "metadata": {},
   "outputs": [],
   "source": [
    "from splinter import Browser\n",
    "from bs4 import BeautifulSoup as soup\n",
    "from webdriver_manager.chrome import ChromeDriverManager\n"
   ]
  },
  {
   "cell_type": "code",
   "execution_count": 2,
   "id": "5db4d110",
   "metadata": {},
   "outputs": [],
   "source": [
    "#Set up Splinter\n",
    "executable_path = {\"executable_path\": ChromeDriverManager().install()}\n",
    "browser = Browser(\"chrome\", **executable_path, headless=True)"
   ]
  },
  {
   "cell_type": "code",
   "execution_count": 3,
   "id": "7667fde6",
   "metadata": {},
   "outputs": [],
   "source": [
    "url = \"https://redplanetscience.com/\"\n",
    "browser.visit(url)\n",
    "html = browser.html\n",
    "mars_soup = soup(html, \"html.parser\")"
   ]
  },
  {
   "cell_type": "code",
   "execution_count": 27,
   "id": "34d4d2af",
   "metadata": {},
   "outputs": [
    {
     "name": "stdout",
     "output_type": "stream",
     "text": [
      "InSight's 'Mole' Team Peers into the Pit\n",
      "NASA Establishes Board to Initially Review Mars Sample Return Plans\n",
      "HiRISE Views NASA's InSight and Curiosity on Mars\n",
      "NASA Invites Public to Share Excitement of Mars 2020 Perseverance Rover Launch\n",
      "Mars 2020 Stands on Its Own Six Wheels\n",
      "Follow NASA's Perseverance Rover in Real Time on Its Way to Mars\n",
      "Global Storms on Mars Launch Dust Towers Into the Sky\n",
      "NASA's Perseverance Rover Will Peer Beneath Mars' Surface \n",
      "Mars Is Getting a New Robotic Meteorologist\n",
      "NASA Administrator Statement on Moon to Mars Initiative, FY 2021 Budget\n",
      "NASA's New Mars Rover Is Ready for Space Lasers\n",
      "Hear Audio From NASA's Perseverance As It Travels Through Deep Space\n",
      "While Stargazing on Mars, NASA's Curiosity Rover Spots Earth and Venus\n",
      "NASA's MAVEN Explores Mars to Understand Radio Interference at Earth\n",
      "NASA's Mars 2020 Heads Into the Test Chamber\n"
     ]
    }
   ],
   "source": [
    "title = mars_soup.find_all('div', class_ = \"content_title\")\n",
    "summary = mars_soup.find_all(\"div\",class_ = \"article_teaser_body\")\n",
    "T = []\n",
    "S = []\n",
    "data = {}\n",
    "for i in title:\n",
    "    print(i.text)\n",
    "    T.append(i.text)"
   ]
  },
  {
   "cell_type": "code",
   "execution_count": 28,
   "id": "4ee68cd8",
   "metadata": {},
   "outputs": [],
   "source": [
    "data[\"Title\"] = T\n"
   ]
  },
  {
   "cell_type": "code",
   "execution_count": 29,
   "id": "e25be1d5",
   "metadata": {},
   "outputs": [
    {
     "name": "stdout",
     "output_type": "stream",
     "text": [
      "Efforts to save the heat probe continue.\n",
      "The board will assist with analysis of current plans and goals for one of the most difficult missions humanity has ever undertaken.\n",
      "New images taken from space offer the clearest orbital glimpse yet of InSight as well as a view of Curiosity rolling along.\n",
      "There are lots of ways to participate in the historic event, which is targeted for July 30.\n",
      "In time-lapse video, taken at JPL, captures the first time NASA's Mars 2020 rover carries its full weight on its legs and wheels.\n",
      "A crisply rendered web application can show you where the agency's Mars 2020 mission is right now as it makes its way to the Red Planet for a Feb. 18, 2021, landing.\n",
      "A Mars Dust Tower Stands Out Dust storms are common on Mars. But every decade or so, something unpredictable happens: a series of runaway storms break out, covering the entire planet in a dusty haze.\n",
      "The agency's newest rover will use the first ground-penetrating radar instrument on the Martian surface to help search for signs of past microbial life. \n",
      "Sensors on NASA's Perseverance will help prepare for future human exploration by taking weather measurements and studying dust particles.\n",
      "Jim Bridenstine addresses NASA's ambitious plans for the coming years, including Mars Sample Return.\n",
      "Perseverance is one of a few Mars spacecraft carrying laser retroreflectors. The devices could provide new science and safer Mars landings in the future.\n",
      "The first to be rigged with microphones, the agency's latest Mars rover picked up the subtle sounds of its own inner workings during interplanetary flight.\n",
      "This new portrait of the Red Planet's neighbors was taken during a time when there's more dust in the air on Mars.\n",
      "NASA’s MAVEN spacecraft has discovered “layers” and “rifts” in the electrically charged part of the upper atmosphere of Mars.\n",
      "In this time-lapse video taken at JPL, engineers move the Mars 2020 rover into a large vacuum chamber for testing in Mars-like environmental conditions.\n"
     ]
    }
   ],
   "source": [
    "for i in summary:\n",
    "    print(i.text)\n",
    "    S.append(i.text)"
   ]
  },
  {
   "cell_type": "code",
   "execution_count": 30,
   "id": "396bef0b",
   "metadata": {},
   "outputs": [
    {
     "data": {
      "text/plain": [
       "{'Title': [\"InSight's 'Mole' Team Peers into the Pit\",\n",
       "  'NASA Establishes Board to Initially Review Mars Sample Return Plans',\n",
       "  \"HiRISE Views NASA's InSight and Curiosity on Mars\",\n",
       "  'NASA Invites Public to Share Excitement of Mars 2020 Perseverance Rover Launch',\n",
       "  'Mars 2020 Stands on Its Own Six Wheels',\n",
       "  \"Follow NASA's Perseverance Rover in Real Time on Its Way to Mars\",\n",
       "  'Global Storms on Mars Launch Dust Towers Into the Sky',\n",
       "  \"NASA's Perseverance Rover Will Peer Beneath Mars' Surface \",\n",
       "  'Mars Is Getting a New Robotic Meteorologist',\n",
       "  'NASA Administrator Statement on Moon to Mars Initiative, FY 2021 Budget',\n",
       "  \"NASA's New Mars Rover Is Ready for Space Lasers\",\n",
       "  \"Hear Audio From NASA's Perseverance As It Travels Through Deep Space\",\n",
       "  \"While Stargazing on Mars, NASA's Curiosity Rover Spots Earth and Venus\",\n",
       "  \"NASA's MAVEN Explores Mars to Understand Radio Interference at Earth\",\n",
       "  \"NASA's Mars 2020 Heads Into the Test Chamber\"],\n",
       " 'preview': ['Efforts to save the heat probe continue.',\n",
       "  'The board will assist with analysis of current plans and goals for one of the most difficult missions humanity has ever undertaken.',\n",
       "  'New images taken from space offer the clearest orbital glimpse yet of InSight as well as a view of Curiosity rolling along.',\n",
       "  'There are lots of ways to participate in the historic event, which is targeted for July 30.',\n",
       "  \"In time-lapse video, taken at JPL, captures the first time NASA's Mars 2020 rover carries its full weight on its legs and wheels.\",\n",
       "  \"A crisply rendered web application can show you where the agency's Mars 2020 mission is right now as it makes its way to the Red Planet for a Feb. 18, 2021, landing.\",\n",
       "  'A Mars Dust Tower Stands Out Dust storms are common on Mars. But every decade or so, something unpredictable happens: a series of runaway storms break out, covering the entire planet in a dusty haze.',\n",
       "  \"The agency's newest rover will use the first ground-penetrating radar instrument on the Martian surface to help search for signs of past microbial life. \",\n",
       "  \"Sensors on NASA's Perseverance will help prepare for future human exploration by taking weather measurements and studying dust particles.\",\n",
       "  \"Jim Bridenstine addresses NASA's ambitious plans for the coming years, including Mars Sample Return.\",\n",
       "  'Perseverance is one of a few Mars spacecraft carrying laser retroreflectors. The devices could provide new science and safer Mars landings in the future.',\n",
       "  \"The first to be rigged with microphones, the agency's latest Mars rover picked up the subtle sounds of its own inner workings during interplanetary flight.\",\n",
       "  \"This new portrait of the Red Planet's neighbors was taken during a time when there's more dust in the air on Mars.\",\n",
       "  'NASA’s MAVEN spacecraft has discovered “layers” and “rifts” in the electrically charged part of the upper atmosphere of Mars.',\n",
       "  'In this time-lapse video taken at JPL, engineers move the Mars 2020 rover into a large vacuum chamber for testing in Mars-like environmental conditions.']}"
      ]
     },
     "execution_count": 30,
     "metadata": {},
     "output_type": "execute_result"
    }
   ],
   "source": [
    "data[\"preview\"] = S\n",
    "data"
   ]
  },
  {
   "cell_type": "code",
   "execution_count": 31,
   "id": "8a6d994e",
   "metadata": {},
   "outputs": [],
   "source": [
    "import pandas as pd\n",
    "df = pd.DataFrame(data)"
   ]
  },
  {
   "cell_type": "code",
   "execution_count": 32,
   "id": "83a3f6d8",
   "metadata": {},
   "outputs": [
    {
     "data": {
      "text/html": [
       "<div>\n",
       "<style scoped>\n",
       "    .dataframe tbody tr th:only-of-type {\n",
       "        vertical-align: middle;\n",
       "    }\n",
       "\n",
       "    .dataframe tbody tr th {\n",
       "        vertical-align: top;\n",
       "    }\n",
       "\n",
       "    .dataframe thead th {\n",
       "        text-align: right;\n",
       "    }\n",
       "</style>\n",
       "<table border=\"1\" class=\"dataframe\">\n",
       "  <thead>\n",
       "    <tr style=\"text-align: right;\">\n",
       "      <th></th>\n",
       "      <th>Title</th>\n",
       "      <th>preview</th>\n",
       "    </tr>\n",
       "  </thead>\n",
       "  <tbody>\n",
       "    <tr>\n",
       "      <th>0</th>\n",
       "      <td>InSight's 'Mole' Team Peers into the Pit</td>\n",
       "      <td>Efforts to save the heat probe continue.</td>\n",
       "    </tr>\n",
       "    <tr>\n",
       "      <th>1</th>\n",
       "      <td>NASA Establishes Board to Initially Review Mar...</td>\n",
       "      <td>The board will assist with analysis of current...</td>\n",
       "    </tr>\n",
       "    <tr>\n",
       "      <th>2</th>\n",
       "      <td>HiRISE Views NASA's InSight and Curiosity on Mars</td>\n",
       "      <td>New images taken from space offer the clearest...</td>\n",
       "    </tr>\n",
       "    <tr>\n",
       "      <th>3</th>\n",
       "      <td>NASA Invites Public to Share Excitement of Mar...</td>\n",
       "      <td>There are lots of ways to participate in the h...</td>\n",
       "    </tr>\n",
       "    <tr>\n",
       "      <th>4</th>\n",
       "      <td>Mars 2020 Stands on Its Own Six Wheels</td>\n",
       "      <td>In time-lapse video, taken at JPL, captures th...</td>\n",
       "    </tr>\n",
       "    <tr>\n",
       "      <th>5</th>\n",
       "      <td>Follow NASA's Perseverance Rover in Real Time ...</td>\n",
       "      <td>A crisply rendered web application can show yo...</td>\n",
       "    </tr>\n",
       "    <tr>\n",
       "      <th>6</th>\n",
       "      <td>Global Storms on Mars Launch Dust Towers Into ...</td>\n",
       "      <td>A Mars Dust Tower Stands Out Dust storms are c...</td>\n",
       "    </tr>\n",
       "    <tr>\n",
       "      <th>7</th>\n",
       "      <td>NASA's Perseverance Rover Will Peer Beneath Ma...</td>\n",
       "      <td>The agency's newest rover will use the first g...</td>\n",
       "    </tr>\n",
       "    <tr>\n",
       "      <th>8</th>\n",
       "      <td>Mars Is Getting a New Robotic Meteorologist</td>\n",
       "      <td>Sensors on NASA's Perseverance will help prepa...</td>\n",
       "    </tr>\n",
       "    <tr>\n",
       "      <th>9</th>\n",
       "      <td>NASA Administrator Statement on Moon to Mars I...</td>\n",
       "      <td>Jim Bridenstine addresses NASA's ambitious pla...</td>\n",
       "    </tr>\n",
       "    <tr>\n",
       "      <th>10</th>\n",
       "      <td>NASA's New Mars Rover Is Ready for Space Lasers</td>\n",
       "      <td>Perseverance is one of a few Mars spacecraft c...</td>\n",
       "    </tr>\n",
       "    <tr>\n",
       "      <th>11</th>\n",
       "      <td>Hear Audio From NASA's Perseverance As It Trav...</td>\n",
       "      <td>The first to be rigged with microphones, the a...</td>\n",
       "    </tr>\n",
       "    <tr>\n",
       "      <th>12</th>\n",
       "      <td>While Stargazing on Mars, NASA's Curiosity Rov...</td>\n",
       "      <td>This new portrait of the Red Planet's neighbor...</td>\n",
       "    </tr>\n",
       "    <tr>\n",
       "      <th>13</th>\n",
       "      <td>NASA's MAVEN Explores Mars to Understand Radio...</td>\n",
       "      <td>NASA’s MAVEN spacecraft has discovered “layers...</td>\n",
       "    </tr>\n",
       "    <tr>\n",
       "      <th>14</th>\n",
       "      <td>NASA's Mars 2020 Heads Into the Test Chamber</td>\n",
       "      <td>In this time-lapse video taken at JPL, enginee...</td>\n",
       "    </tr>\n",
       "  </tbody>\n",
       "</table>\n",
       "</div>"
      ],
      "text/plain": [
       "                                                Title  \\\n",
       "0            InSight's 'Mole' Team Peers into the Pit   \n",
       "1   NASA Establishes Board to Initially Review Mar...   \n",
       "2   HiRISE Views NASA's InSight and Curiosity on Mars   \n",
       "3   NASA Invites Public to Share Excitement of Mar...   \n",
       "4              Mars 2020 Stands on Its Own Six Wheels   \n",
       "5   Follow NASA's Perseverance Rover in Real Time ...   \n",
       "6   Global Storms on Mars Launch Dust Towers Into ...   \n",
       "7   NASA's Perseverance Rover Will Peer Beneath Ma...   \n",
       "8         Mars Is Getting a New Robotic Meteorologist   \n",
       "9   NASA Administrator Statement on Moon to Mars I...   \n",
       "10    NASA's New Mars Rover Is Ready for Space Lasers   \n",
       "11  Hear Audio From NASA's Perseverance As It Trav...   \n",
       "12  While Stargazing on Mars, NASA's Curiosity Rov...   \n",
       "13  NASA's MAVEN Explores Mars to Understand Radio...   \n",
       "14       NASA's Mars 2020 Heads Into the Test Chamber   \n",
       "\n",
       "                                              preview  \n",
       "0            Efforts to save the heat probe continue.  \n",
       "1   The board will assist with analysis of current...  \n",
       "2   New images taken from space offer the clearest...  \n",
       "3   There are lots of ways to participate in the h...  \n",
       "4   In time-lapse video, taken at JPL, captures th...  \n",
       "5   A crisply rendered web application can show yo...  \n",
       "6   A Mars Dust Tower Stands Out Dust storms are c...  \n",
       "7   The agency's newest rover will use the first g...  \n",
       "8   Sensors on NASA's Perseverance will help prepa...  \n",
       "9   Jim Bridenstine addresses NASA's ambitious pla...  \n",
       "10  Perseverance is one of a few Mars spacecraft c...  \n",
       "11  The first to be rigged with microphones, the a...  \n",
       "12  This new portrait of the Red Planet's neighbor...  \n",
       "13  NASA’s MAVEN spacecraft has discovered “layers...  \n",
       "14  In this time-lapse video taken at JPL, enginee...  "
      ]
     },
     "execution_count": 32,
     "metadata": {},
     "output_type": "execute_result"
    }
   ],
   "source": [
    "df"
   ]
  },
  {
   "cell_type": "code",
   "execution_count": null,
   "id": "0427ebf2",
   "metadata": {},
   "outputs": [],
   "source": []
  }
 ],
 "metadata": {
  "kernelspec": {
   "display_name": "PythonData",
   "language": "python",
   "name": "pythondata"
  },
  "language_info": {
   "codemirror_mode": {
    "name": "ipython",
    "version": 3
   },
   "file_extension": ".py",
   "mimetype": "text/x-python",
   "name": "python",
   "nbconvert_exporter": "python",
   "pygments_lexer": "ipython3",
   "version": "3.7.13"
  }
 },
 "nbformat": 4,
 "nbformat_minor": 5
}
